{
 "cells": [
  {
   "cell_type": "code",
   "execution_count": null,
   "metadata": {},
   "outputs": [],
   "source": [
    "from dask import dataframe as dd\n",
    "import pandas as pd\n",
    "import matplotlib.pyplot as plt\n",
    "import numpy as np\n",
    "from functools import reduce\n",
    "import seaborn as sns\n",
    "from sklearn import preprocessing\n",
    "\n",
    "%matplotlib inline\n",
    "\n",
    "path = '../data/'\n",
    "\n",
    "df_sds011 = dd.read_csv(path + 'processed*sds011*').compute()\n",
    "df_dht22 = dd.read_csv(path + 'processed*dht22*').compute()\n",
    "\n",
    "df_sds011['timestamp'] = pd.to_datetime(df_sds011['timestamp'], format='%Y-%m-%dT%H:%M:%S')\n",
    "df_dht22['timestamp'] = pd.to_datetime(df_dht22['timestamp'], format='%Y-%m-%dT%H:%M:%S')\n",
    "\n",
    "\n",
    "#Problems when remove index category because of multi index\n",
    "#df_sds011['location'] = df_sds011['location'].astype('category')\n",
    "#df_dht22['location'] = df_dht22['location'].astype('category')\n",
    "\n"
   ]
  },
  {
   "cell_type": "code",
   "execution_count": null,
   "metadata": {},
   "outputs": [],
   "source": [
    "df_sds011 = df_sds011.set_index(['location', 'timestamp'])\n",
    "df_dht22 = df_dht22.set_index(['location', 'timestamp'])\n",
    "\n",
    "df_sds011 = df_sds011.sort_index()\n",
    "df_dht22 = df_dht22.sort_index()\n",
    "\n",
    "df_sds011 = df_sds011[['P1', 'P2']]\n",
    "df_dht22 = df_dht22[['temperature', 'humidity']]"
   ]
  },
  {
   "cell_type": "code",
   "execution_count": null,
   "metadata": {},
   "outputs": [],
   "source": [
    "print(df_sds011.isnull().sum())\n",
    "print(df_dht22.isnull().sum())"
   ]
  },
  {
   "cell_type": "code",
   "execution_count": null,
   "metadata": {},
   "outputs": [],
   "source": [
    "df_sds011.describe()"
   ]
  },
  {
   "cell_type": "code",
   "execution_count": null,
   "metadata": {},
   "outputs": [],
   "source": [
    "df_dht22.describe()"
   ]
  },
  {
   "cell_type": "code",
   "execution_count": null,
   "metadata": {},
   "outputs": [],
   "source": [
    "_ = df_dht22.boxplot(by='location')\n",
    "_ = df_sds011.boxplot(by='location')"
   ]
  },
  {
   "cell_type": "code",
   "execution_count": null,
   "metadata": {},
   "outputs": [],
   "source": [
    "df_sds011.groupby(level=0).plot(kind='kde')"
   ]
  },
  {
   "cell_type": "code",
   "execution_count": null,
   "metadata": {
    "scrolled": false
   },
   "outputs": [],
   "source": [
    "df_dht22.groupby(level=0).plot( kind='kde')"
   ]
  },
  {
   "cell_type": "markdown",
   "metadata": {},
   "source": [
    "# Outliers"
   ]
  },
  {
   "cell_type": "code",
   "execution_count": null,
   "metadata": {},
   "outputs": [],
   "source": [
    "def remove_outlier(df):\n",
    "    print(df.groupby(level=0).count())\n",
    "    res = df[np.abs(df - df.mean()) <= (3*df.std())]\n",
    "    print(res.groupby(level=0).count())\n",
    "    \n",
    "    return res\n",
    "\n",
    "\n",
    "df_sds011 = remove_outlier(df_sds011)\n",
    "df_dht22 = remove_outlier(df_dht22)"
   ]
  },
  {
   "cell_type": "code",
   "execution_count": null,
   "metadata": {},
   "outputs": [],
   "source": [
    "df_sds011.describe()"
   ]
  },
  {
   "cell_type": "code",
   "execution_count": null,
   "metadata": {
    "scrolled": true
   },
   "outputs": [],
   "source": [
    "df_dht22.describe()"
   ]
  },
  {
   "cell_type": "code",
   "execution_count": null,
   "metadata": {},
   "outputs": [],
   "source": [
    "#_ = df_dht22.boxplot(by='location')\n",
    "#_ = df_sds011.boxplot(by='location')"
   ]
  },
  {
   "cell_type": "code",
   "execution_count": null,
   "metadata": {},
   "outputs": [],
   "source": [
    "df_sds011.groupby(level=0).plot(kind='kde')"
   ]
  },
  {
   "cell_type": "code",
   "execution_count": null,
   "metadata": {},
   "outputs": [],
   "source": [
    "df_dht22.groupby(level=0).plot(kind='kde')"
   ]
  },
  {
   "cell_type": "code",
   "execution_count": null,
   "metadata": {},
   "outputs": [],
   "source": [
    "df_sds011.groupby(level=0).describe()"
   ]
  },
  {
   "cell_type": "code",
   "execution_count": null,
   "metadata": {},
   "outputs": [],
   "source": [
    "df_dht22.groupby(level=0).describe()"
   ]
  },
  {
   "cell_type": "code",
   "execution_count": null,
   "metadata": {},
   "outputs": [],
   "source": [
    "df_sds011 = df_sds011.drop([3123, 10574], level=0)\n",
    "df_dht22 = df_dht22.drop([3123, 10574], level=0)"
   ]
  },
  {
   "cell_type": "markdown",
   "metadata": {},
   "source": [
    "# Resample and Merge"
   ]
  },
  {
   "cell_type": "code",
   "execution_count": null,
   "metadata": {},
   "outputs": [],
   "source": [
    "def resample(df, freq='60min'):\n",
    "    level_values = df.index.get_level_values\n",
    "    return df.groupby([level_values(0)] + [pd.Grouper(freq=freq, level=1)]).mean().dropna()"
   ]
  },
  {
   "cell_type": "code",
   "execution_count": null,
   "metadata": {},
   "outputs": [],
   "source": [
    "\n",
    "df_sds011 = resample(df_sds011)\n",
    "df_dht22 = resample(df_dht22)"
   ]
  },
  {
   "cell_type": "code",
   "execution_count": null,
   "metadata": {},
   "outputs": [],
   "source": [
    "print(df_sds011.shape, df_dht22.shape)"
   ]
  },
  {
   "cell_type": "code",
   "execution_count": null,
   "metadata": {},
   "outputs": [],
   "source": [
    "data = pd.merge(df_sds011, df_dht22, left_index=True, right_index=True, how='inner')\n",
    "data = data[data.humidity <= 70.0]\n",
    "print(data.shape)"
   ]
  },
  {
   "cell_type": "markdown",
   "metadata": {},
   "source": [
    "# Normalize and Stand"
   ]
  },
  {
   "cell_type": "code",
   "execution_count": null,
   "metadata": {},
   "outputs": [],
   "source": [
    "# through normalization, correlations can be better observerd\n",
    "\n",
    "df_sds011[['P1', 'P2']] =  preprocessing.normalize(df_sds011[['P1', 'P2']], axis=0, norm='max')\n",
    "scaler = preprocessing.StandardScaler()\n",
    "df_sds011[['P1', 'P2']] = scaler.fit_transform(df_sds011[['P1', 'P2']])\n",
    "\n",
    "df_dht22[['temperature', 'humidity']] = preprocessing.normalize(df_dht22[['temperature', 'humidity']], axis=0, norm='max')\n",
    "scaler = preprocessing.StandardScaler()\n",
    "df_dht22[['temperature', 'humidity']] = scaler.fit_transform(df_dht22[['temperature', 'humidity']])"
   ]
  },
  {
   "cell_type": "code",
   "execution_count": null,
   "metadata": {},
   "outputs": [],
   "source": [
    "print(df_sds011.describe())\n",
    "print(df_dht22.describe())"
   ]
  },
  {
   "cell_type": "code",
   "execution_count": null,
   "metadata": {},
   "outputs": [],
   "source": [
    "import matplotlib.pyplot as plt\n",
    "\n",
    "alpha = list(data.columns.values)\n",
    "\n",
    "fig = plt.figure()\n",
    "\n",
    "ax = fig.add_subplot(111)\n",
    "cax = ax.matshow(data.corr(), interpolation='nearest')\n",
    "fig.colorbar(cax)\n",
    "\n",
    "ax.set_xticklabels(['']+alpha)\n",
    "ax.set_yticklabels(['']+alpha)\n",
    "\n",
    "plt.show()\n",
    "\n"
   ]
  },
  {
   "cell_type": "code",
   "execution_count": null,
   "metadata": {},
   "outputs": [],
   "source": [
    "df_dht22[['temperature']].hist(bins=50, by='location')"
   ]
  },
  {
   "cell_type": "code",
   "execution_count": null,
   "metadata": {},
   "outputs": [],
   "source": [
    "df_dht22[['humidity']].hist(bins=50, by='location')"
   ]
  },
  {
   "cell_type": "code",
   "execution_count": null,
   "metadata": {},
   "outputs": [],
   "source": [
    "bins = int(len(range(int(df_sds011['P1'].min()), int(df_sds011['P1'].max()))) / 5 )\n",
    "df_sds011[['P1']].hist(bins=bins, by='location')"
   ]
  },
  {
   "cell_type": "code",
   "execution_count": null,
   "metadata": {},
   "outputs": [],
   "source": [
    "#bins = int(len(range(int(df_sds011['P2'].min()), int(df_sds011['P2'].max()))) / 5 )\n",
    "bins = 50\n",
    "\n",
    "f, axes = plt.subplots(2, 2, figsize=(10, 7), sharex=True)\n",
    "\n",
    "groups = list(df_sds011.groupby(level=0))\n",
    "\n",
    "\n",
    "sns.distplot(groups[0][1][['P2']], hist=True, kde=True, \n",
    "             bins=bins, color = 'darkblue', \n",
    "             hist_kws={'edgecolor':'black'},\n",
    "             kde_kws={'linewidth': 4}, ax=axes[0,0])\n",
    "\n",
    "axes[0,0].title.set_text(groups[0][0])\n",
    "\n",
    "sns.distplot(groups[1][1][['P2']], hist=True, kde=True, \n",
    "             bins=bins, color = 'darkblue', \n",
    "             hist_kws={'edgecolor':'black'},\n",
    "             kde_kws={'linewidth': 4}, ax=axes[0,1])\n",
    "\n",
    "axes[0,1].title.set_text(groups[1][0])\n",
    "\n",
    "sns.distplot(groups[2][1][['P2']], hist=True, kde=True, \n",
    "             bins=bins, color = 'darkblue', \n",
    "             hist_kws={'edgecolor':'black'},\n",
    "             kde_kws={'linewidth': 4}, ax=axes[1,0])\n",
    "\n",
    "axes[1,0].title.set_text(groups[2][0])\n",
    "\n",
    "\n",
    "    \n",
    "plt.tight_layout()\n",
    "    \n"
   ]
  },
  {
   "cell_type": "code",
   "execution_count": null,
   "metadata": {},
   "outputs": [],
   "source": [
    "#bins = int(len(range(int(df_sds011['P2'].min()), int(df_sds011['P2'].max()))) / 5 )\n",
    "bins = 15\n",
    "\n",
    "\n",
    "f, axes = plt.subplots(3, 2, figsize=(10, 7), sharex=True)\n",
    "\n",
    "#data gets average over location \n",
    "\n",
    "#d = data[data['P1'] <= 15]\n",
    "d = data\n",
    "sns.distplot(d[['P1']], hist=True, kde=True, \n",
    "             bins=bins, color = 'darkblue', \n",
    "             hist_kws={'edgecolor':'black'},\n",
    "             kde_kws={'linewidth': 4}, ax=axes[0,0])\n",
    "\n",
    "axes[0,0].title.set_text('P1')\n",
    "\n",
    "sns.distplot(d[['P2']], hist=True, kde=True, \n",
    "             bins=bins, color = 'darkblue', \n",
    "             hist_kws={'edgecolor':'black'},\n",
    "             kde_kws={'linewidth': 4}, ax=axes[0,1])\n",
    "\n",
    "axes[0,1].title.set_text('P2')\n",
    "\n",
    "\n",
    "sns.distplot(boxcox(d[['P1']], lmbda=0), hist=False, kde=True, color = 'darkblue', \n",
    "             hist_kws={'edgecolor':'black'},\n",
    "             kde_kws={'linewidth': 4}, ax=axes[1,0])\n",
    "\n",
    "axes[1,0].title.set_text('P1 boxcox')\n",
    "\n",
    "sns.distplot(boxcox(d[['P2']], lmbda=0), hist=False, kde=True, color = 'darkblue', \n",
    "             hist_kws={'edgecolor':'black'},\n",
    "             kde_kws={'linewidth': 4}, ax=axes[1,1])\n",
    "\n",
    "axes[1,1].title.set_text('P2 boxcox')\n",
    "\n",
    "sns.distplot(d[['temperature']], hist=True, kde=True, \n",
    "             bins=bins, color = 'darkblue', \n",
    "             hist_kws={'edgecolor':'black'},\n",
    "             kde_kws={'linewidth': 4}, ax=axes[2,0])\n",
    "\n",
    "axes[2,0].title.set_text('Temperature')\n",
    "\n",
    "sns.distplot(d[['humidity']], hist=True, kde=True, \n",
    "             bins=bins, color = 'darkblue', \n",
    "             hist_kws={'edgecolor':'black'},\n",
    "             kde_kws={'linewidth': 4}, ax=axes[2,1])\n",
    "\n",
    "axes[2,1].title.set_text('Humidity')\n",
    "\n",
    "    \n",
    "plt.tight_layout()\n",
    "    "
   ]
  },
  {
   "cell_type": "code",
   "execution_count": null,
   "metadata": {},
   "outputs": [],
   "source": [
    "features_set = []  \n",
    "labels = []  \n",
    "for i in range(60, 1260):  \n",
    "    features_set.append(apple_training_scaled[i-60:i, 0])\n",
    "    labels.append(apple_training_scaled[i, 0])"
   ]
  },
  {
   "cell_type": "code",
   "execution_count": null,
   "metadata": {},
   "outputs": [],
   "source": [
    "from pandas import DataFrame\n",
    "df = DataFrame()\n",
    "df['t'] = [x for x in range(10)]\n",
    "df['t-1'] = df['t'].shift(1)\n",
    "df['t+1'] = df['t'].shift(-1)\n",
    "\n",
    "print(df)\n"
   ]
  },
  {
   "cell_type": "code",
   "execution_count": null,
   "metadata": {},
   "outputs": [],
   "source": [
    "from pandas import DataFrame\n",
    "from pandas import concat\n",
    " \n",
    "def series_to_supervised(data, n_in=1, n_out=1, dropnan=True):\n",
    "\t\"\"\"\n",
    "\tFrame a time series as a supervised learning dataset.\n",
    "\tArguments:\n",
    "\t\tdata: Sequence of observations as a list or NumPy array.\n",
    "\t\tn_in: Number of lag observations as input (X).\n",
    "\t\tn_out: Number of observations as output (y).\n",
    "\t\tdropnan: Boolean whether or not to drop rows with NaN values.\n",
    "\tReturns:\n",
    "\t\tPandas DataFrame of series framed for supervised learning.\n",
    "\t\"\"\"\n",
    "\tn_vars = 1 if type(data) is list else data.shape[1]\n",
    "\tdf = DataFrame(data)\n",
    "\tcols, names = list(), list()\n",
    "\t# input sequence (t-n, ... t-1)\n",
    "\tfor i in range(n_in, 0, -1):\n",
    "\t\tcols.append(df.shift(i))\n",
    "\t\tnames += [('var%d(t-%d)' % (j+1, i)) for j in range(n_vars)]\n",
    "\t# forecast sequence (t, t+1, ... t+n)\n",
    "\tfor i in range(0, n_out):\n",
    "\t\tcols.append(df.shift(-i))\n",
    "\t\tif i == 0:\n",
    "\t\t\tnames += [('var%d(t)' % (j+1)) for j in range(n_vars)]\n",
    "\t\telse:\n",
    "\t\t\tnames += [('var%d(t+%d)' % (j+1, i)) for j in range(n_vars)]\n",
    "\t# put it all together\n",
    "\tagg = concat(cols, axis=1)\n",
    "\tagg.columns = names\n",
    "\t# drop rows with NaN values\n",
    "\tif dropnan:\n",
    "\t\tagg.dropna(inplace=True)\n",
    "\treturn agg"
   ]
  },
  {
   "cell_type": "code",
   "execution_count": null,
   "metadata": {},
   "outputs": [],
   "source": [
    "series_to_supervised([1,2,3], n_in=1, n_out=2, dropnan=False)"
   ]
  },
  {
   "cell_type": "code",
   "execution_count": 310,
   "metadata": {},
   "outputs": [
    {
     "data": {
      "text/plain": [
       "((2854, 6), (6016, 7), (8870, 6))"
      ]
     },
     "execution_count": 310,
     "metadata": {},
     "output_type": "execute_result"
    }
   ],
   "source": [
    "d = d.groupby(level=1).mean().sort_index()[['P1', 'P2', 'temperature', 'humidity']]"
   ]
  },
  {
   "cell_type": "code",
   "execution_count": 328,
   "metadata": {},
   "outputs": [
    {
     "data": {
      "text/html": [
       "<div>\n",
       "<style scoped>\n",
       "    .dataframe tbody tr th:only-of-type {\n",
       "        vertical-align: middle;\n",
       "    }\n",
       "\n",
       "    .dataframe tbody tr th {\n",
       "        vertical-align: top;\n",
       "    }\n",
       "\n",
       "    .dataframe thead th {\n",
       "        text-align: right;\n",
       "    }\n",
       "</style>\n",
       "<table border=\"1\" class=\"dataframe\">\n",
       "  <thead>\n",
       "    <tr style=\"text-align: right;\">\n",
       "      <th></th>\n",
       "      <th>var1(t-2)</th>\n",
       "      <th>var2(t-2)</th>\n",
       "      <th>var3(t-2)</th>\n",
       "      <th>var4(t-2)</th>\n",
       "      <th>var1(t-1)</th>\n",
       "      <th>var2(t-1)</th>\n",
       "      <th>var3(t-1)</th>\n",
       "      <th>var4(t-1)</th>\n",
       "      <th>var1(t)</th>\n",
       "      <th>var2(t)</th>\n",
       "      <th>var3(t)</th>\n",
       "      <th>var4(t)</th>\n",
       "    </tr>\n",
       "    <tr>\n",
       "      <th>timestamp</th>\n",
       "      <th></th>\n",
       "      <th></th>\n",
       "      <th></th>\n",
       "      <th></th>\n",
       "      <th></th>\n",
       "      <th></th>\n",
       "      <th></th>\n",
       "      <th></th>\n",
       "      <th></th>\n",
       "      <th></th>\n",
       "      <th></th>\n",
       "      <th></th>\n",
       "    </tr>\n",
       "  </thead>\n",
       "  <tbody>\n",
       "    <tr>\n",
       "      <th>2017-11-20 09:00:00</th>\n",
       "      <td>NaN</td>\n",
       "      <td>NaN</td>\n",
       "      <td>NaN</td>\n",
       "      <td>NaN</td>\n",
       "      <td>NaN</td>\n",
       "      <td>NaN</td>\n",
       "      <td>NaN</td>\n",
       "      <td>NaN</td>\n",
       "      <td>11.602083</td>\n",
       "      <td>4.926667</td>\n",
       "      <td>8.091667</td>\n",
       "      <td>68.087500</td>\n",
       "    </tr>\n",
       "    <tr>\n",
       "      <th>2017-11-20 10:00:00</th>\n",
       "      <td>NaN</td>\n",
       "      <td>NaN</td>\n",
       "      <td>NaN</td>\n",
       "      <td>NaN</td>\n",
       "      <td>11.602083</td>\n",
       "      <td>4.926667</td>\n",
       "      <td>8.091667</td>\n",
       "      <td>68.0875</td>\n",
       "      <td>11.801600</td>\n",
       "      <td>4.736400</td>\n",
       "      <td>9.316000</td>\n",
       "      <td>63.924000</td>\n",
       "    </tr>\n",
       "    <tr>\n",
       "      <th>2017-11-20 11:00:00</th>\n",
       "      <td>11.602083</td>\n",
       "      <td>4.926667</td>\n",
       "      <td>8.091667</td>\n",
       "      <td>68.0875</td>\n",
       "      <td>11.801600</td>\n",
       "      <td>4.736400</td>\n",
       "      <td>9.316000</td>\n",
       "      <td>63.9240</td>\n",
       "      <td>11.670000</td>\n",
       "      <td>4.793750</td>\n",
       "      <td>10.037500</td>\n",
       "      <td>60.404167</td>\n",
       "    </tr>\n",
       "  </tbody>\n",
       "</table>\n",
       "</div>"
      ],
      "text/plain": [
       "                     var1(t-2)  var2(t-2)  var3(t-2)  var4(t-2)  var1(t-1)  \\\n",
       "timestamp                                                                    \n",
       "2017-11-20 09:00:00        NaN        NaN        NaN        NaN        NaN   \n",
       "2017-11-20 10:00:00        NaN        NaN        NaN        NaN  11.602083   \n",
       "2017-11-20 11:00:00  11.602083   4.926667   8.091667    68.0875  11.801600   \n",
       "\n",
       "                     var2(t-1)  var3(t-1)  var4(t-1)    var1(t)   var2(t)  \\\n",
       "timestamp                                                                   \n",
       "2017-11-20 09:00:00        NaN        NaN        NaN  11.602083  4.926667   \n",
       "2017-11-20 10:00:00   4.926667   8.091667    68.0875  11.801600  4.736400   \n",
       "2017-11-20 11:00:00   4.736400   9.316000    63.9240  11.670000  4.793750   \n",
       "\n",
       "                       var3(t)    var4(t)  \n",
       "timestamp                                  \n",
       "2017-11-20 09:00:00   8.091667  68.087500  \n",
       "2017-11-20 10:00:00   9.316000  63.924000  \n",
       "2017-11-20 11:00:00  10.037500  60.404167  "
      ]
     },
     "execution_count": 328,
     "metadata": {},
     "output_type": "execute_result"
    }
   ],
   "source": [
    "series_to_supervised(d[0:3],n_in=2, n_out=1, dropnan=False)"
   ]
  },
  {
   "cell_type": "code",
   "execution_count": 326,
   "metadata": {},
   "outputs": [
    {
     "data": {
      "text/html": [
       "<div>\n",
       "<style scoped>\n",
       "    .dataframe tbody tr th:only-of-type {\n",
       "        vertical-align: middle;\n",
       "    }\n",
       "\n",
       "    .dataframe tbody tr th {\n",
       "        vertical-align: top;\n",
       "    }\n",
       "\n",
       "    .dataframe thead th {\n",
       "        text-align: right;\n",
       "    }\n",
       "</style>\n",
       "<table border=\"1\" class=\"dataframe\">\n",
       "  <thead>\n",
       "    <tr style=\"text-align: right;\">\n",
       "      <th></th>\n",
       "      <th>P1</th>\n",
       "      <th>P2</th>\n",
       "      <th>temperature</th>\n",
       "      <th>humidity</th>\n",
       "    </tr>\n",
       "    <tr>\n",
       "      <th>timestamp</th>\n",
       "      <th></th>\n",
       "      <th></th>\n",
       "      <th></th>\n",
       "      <th></th>\n",
       "    </tr>\n",
       "  </thead>\n",
       "  <tbody>\n",
       "    <tr>\n",
       "      <th>2017-11-20 09:00:00</th>\n",
       "      <td>11.602083</td>\n",
       "      <td>4.926667</td>\n",
       "      <td>8.091667</td>\n",
       "      <td>68.0875</td>\n",
       "    </tr>\n",
       "    <tr>\n",
       "      <th>2017-11-20 10:00:00</th>\n",
       "      <td>11.801600</td>\n",
       "      <td>4.736400</td>\n",
       "      <td>9.316000</td>\n",
       "      <td>63.9240</td>\n",
       "    </tr>\n",
       "  </tbody>\n",
       "</table>\n",
       "</div>"
      ],
      "text/plain": [
       "                            P1        P2  temperature  humidity\n",
       "timestamp                                                      \n",
       "2017-11-20 09:00:00  11.602083  4.926667     8.091667   68.0875\n",
       "2017-11-20 10:00:00  11.801600  4.736400     9.316000   63.9240"
      ]
     },
     "execution_count": 326,
     "metadata": {},
     "output_type": "execute_result"
    }
   ],
   "source": [
    "d[0:2]"
   ]
  },
  {
   "cell_type": "code",
   "execution_count": null,
   "metadata": {},
   "outputs": [],
   "source": [
    "#Question: How many timesteps?"
   ]
  }
 ],
 "metadata": {
  "kernelspec": {
   "display_name": "BTW",
   "language": "python",
   "name": "btw"
  },
  "language_info": {
   "codemirror_mode": {
    "name": "ipython",
    "version": 3
   },
   "file_extension": ".py",
   "mimetype": "text/x-python",
   "name": "python",
   "nbconvert_exporter": "python",
   "pygments_lexer": "ipython3",
   "version": "3.6.5"
  }
 },
 "nbformat": 4,
 "nbformat_minor": 2
}
