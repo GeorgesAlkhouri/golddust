{
 "cells": [
  {
   "cell_type": "code",
   "execution_count": 2,
   "metadata": {},
   "outputs": [],
   "source": [
    "from dask import dataframe as dd\n",
    "import pandas as pd\n",
    "import matplotlib.pyplot as plt\n",
    "import numpy as np\n",
    "from functools import reduce\n",
    "import seaborn as sns\n",
    "\n",
    "%matplotlib inline\n",
    "\n",
    "path = '../data/'\n",
    "\n",
    "df_sds011 = dd.read_csv(path + 'processed*sds011*').compute()\n",
    "df_dht22 = dd.read_csv(path + 'processed*dht22*').compute()\n",
    "\n",
    "df_sds011['timestamp'] = pd.to_datetime(df_sds011['timestamp'], format='%Y-%m-%dT%H:%M:%S')\n",
    "df_dht22['timestamp'] = pd.to_datetime(df_dht22['timestamp'], format='%Y-%m-%dT%H:%M:%S')\n",
    "\n",
    "\n",
    "#Problems when remove index category because of multi index\n",
    "#df_sds011['location'] = df_sds011['location'].astype('category')\n",
    "#df_dht22['location'] = df_dht22['location'].astype('category')\n",
    "\n",
    "df_sds011 = df_sds011.set_index(['location', 'timestamp'])\n",
    "df_dht22 = df_dht22.set_index(['location', 'timestamp'])\n",
    "\n",
    "df_sds011 = df_sds011.sort_index()\n",
    "df_dht22 = df_dht22.sort_index()\n",
    "\n",
    "df_sds011 = df_sds011[['P1', 'P2']]\n",
    "df_dht22 = df_dht22[['temperature', 'humidity']]"
   ]
  },
  {
   "cell_type": "code",
   "execution_count": 72,
   "metadata": {},
   "outputs": [
    {
     "data": {
      "text/html": [
       "<div>\n",
       "<style scoped>\n",
       "    .dataframe tbody tr th:only-of-type {\n",
       "        vertical-align: middle;\n",
       "    }\n",
       "\n",
       "    .dataframe tbody tr th {\n",
       "        vertical-align: top;\n",
       "    }\n",
       "\n",
       "    .dataframe thead th {\n",
       "        text-align: right;\n",
       "    }\n",
       "</style>\n",
       "<table border=\"1\" class=\"dataframe\">\n",
       "  <thead>\n",
       "    <tr style=\"text-align: right;\">\n",
       "      <th></th>\n",
       "      <th>P1</th>\n",
       "      <th>P2</th>\n",
       "    </tr>\n",
       "  </thead>\n",
       "  <tbody>\n",
       "    <tr>\n",
       "      <th>Mon</th>\n",
       "      <td>22.844590</td>\n",
       "      <td>14.005148</td>\n",
       "    </tr>\n",
       "    <tr>\n",
       "      <th>Tues</th>\n",
       "      <td>23.341005</td>\n",
       "      <td>13.832031</td>\n",
       "    </tr>\n",
       "    <tr>\n",
       "      <th>Wed</th>\n",
       "      <td>28.338281</td>\n",
       "      <td>16.226639</td>\n",
       "    </tr>\n",
       "    <tr>\n",
       "      <th>Thurs</th>\n",
       "      <td>28.860106</td>\n",
       "      <td>16.718784</td>\n",
       "    </tr>\n",
       "    <tr>\n",
       "      <th>Fri</th>\n",
       "      <td>29.468317</td>\n",
       "      <td>16.746784</td>\n",
       "    </tr>\n",
       "    <tr>\n",
       "      <th>Sat</th>\n",
       "      <td>30.031308</td>\n",
       "      <td>17.272664</td>\n",
       "    </tr>\n",
       "    <tr>\n",
       "      <th>Sun</th>\n",
       "      <td>25.269976</td>\n",
       "      <td>15.251830</td>\n",
       "    </tr>\n",
       "  </tbody>\n",
       "</table>\n",
       "</div>"
      ],
      "text/plain": [
       "              P1         P2\n",
       "Mon    22.844590  14.005148\n",
       "Tues   23.341005  13.832031\n",
       "Wed    28.338281  16.226639\n",
       "Thurs  28.860106  16.718784\n",
       "Fri    29.468317  16.746784\n",
       "Sat    30.031308  17.272664\n",
       "Sun    25.269976  15.251830"
      ]
     },
     "execution_count": 72,
     "metadata": {},
     "output_type": "execute_result"
    },
    {
     "data": {
      "image/png": "[encoded data removed]",
      "text/plain": [
       "<Figure size 432x288 with 1 Axes>"
      ]
     },
     "metadata": {
      "needs_background": "light"
     },
     "output_type": "display_data"
    }
   ],
   "source": [
    "level_values = df_sds011.index.get_level_values\n",
    "#by_weekday = df_sds011.groupby([level_values(0)] + [level_values(1).dayofweek]).mean()\n",
    "\n",
    "by_weekday = df_sds011.groupby(level_values(1).dayofweek).mean()\n",
    "by_weekday.index = ['Mon', 'Tues', 'Wed', 'Thurs', 'Fri', 'Sat', 'Sun']\n",
    "by_weekday.plot(style=[':', '-'])\n",
    "by_weekday"
   ]
  },
  {
   "cell_type": "code",
   "execution_count": 67,
   "metadata": {},
   "outputs": [
    {
     "data": {
      "text/plain": [
       "<matplotlib.axes._subplots.AxesSubplot at 0x123b5b6a0>"
      ]
     },
     "execution_count": 67,
     "metadata": {},
     "output_type": "execute_result"
    },
    {
     "data": {
      "image/png": "[encoded data removed]",
      "text/plain": [
       "<Figure size 432x288 with 1 Axes>"
      ]
     },
     "metadata": {
      "needs_background": "light"
     },
     "output_type": "display_data"
    }
   ],
   "source": [
    "level_values = df_sds011.index.get_level_values\n",
    "by_time = df_sds011.groupby(level_values(1)).mean()\n",
    "by_time = by_time.resample('60min').mean()\n",
    "by_time = by_time.groupby(by_time.index.time).mean()\n",
    "hourly_ticks = 4 * 60 * 60 * np.arange(6)\n",
    "by_time.plot(xticks=hourly_ticks, style=[':', '-'])"
   ]
  },
  {
   "cell_type": "code",
   "execution_count": null,
   "metadata": {},
   "outputs": [],
   "source": []
  }
 ],
 "metadata": {
  "kernelspec": {
   "display_name": "btw",
   "language": "python",
   "name": "btw"
  },
  "language_info": {
   "codemirror_mode": {
    "name": "ipython",
    "version": 3
   },
   "file_extension": ".py",
   "mimetype": "text/x-python",
   "name": "python",
   "nbconvert_exporter": "python",
   "pygments_lexer": "ipython3",
   "version": "3.6.5"
  }
 },
 "nbformat": 4,
 "nbformat_minor": 2
}
